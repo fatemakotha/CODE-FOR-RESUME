{
  "nbformat": 4,
  "nbformat_minor": 0,
  "metadata": {
    "colab": {
      "provenance": []
    },
    "kernelspec": {
      "name": "python3",
      "display_name": "Python 3"
    },
    "language_info": {
      "name": "python"
    }
  },
  "cells": [
    {
      "cell_type": "code",
      "source": [
        "pip install python-docx"
      ],
      "metadata": {
        "colab": {
          "base_uri": "https://localhost:8080/"
        },
        "id": "R0z74Mdlkh9_",
        "outputId": "33e40888-7a4c-4688-d26f-804dba86bf9f"
      },
      "execution_count": null,
      "outputs": [
        {
          "output_type": "stream",
          "name": "stdout",
          "text": [
            "Collecting python-docx\n",
            "  Downloading python_docx-1.1.2-py3-none-any.whl (244 kB)\n",
            "\u001b[?25l     \u001b[90m━━━━━━━━━━━━━━━━━━━━━━━━━━━━━━━━━━━━━━━━\u001b[0m \u001b[32m0.0/244.3 kB\u001b[0m \u001b[31m?\u001b[0m eta \u001b[36m-:--:--\u001b[0m\r\u001b[2K     \u001b[91m━━━━━━━━━━━━━━━━━━\u001b[0m\u001b[90m╺\u001b[0m\u001b[90m━━━━━━━━━━━━━━━━━━━━━\u001b[0m \u001b[32m112.6/244.3 kB\u001b[0m \u001b[31m3.1 MB/s\u001b[0m eta \u001b[36m0:00:01\u001b[0m\r\u001b[2K     \u001b[90m━━━━━━━━━━━━━━━━━━━━━━━━━━━━━━━━━━━━━━━━\u001b[0m \u001b[32m244.3/244.3 kB\u001b[0m \u001b[31m3.9 MB/s\u001b[0m eta \u001b[36m0:00:00\u001b[0m\n",
            "\u001b[?25hRequirement already satisfied: lxml>=3.1.0 in /usr/local/lib/python3.10/dist-packages (from python-docx) (4.9.4)\n",
            "Requirement already satisfied: typing-extensions>=4.9.0 in /usr/local/lib/python3.10/dist-packages (from python-docx) (4.11.0)\n",
            "Installing collected packages: python-docx\n",
            "Successfully installed python-docx-1.1.2\n"
          ]
        }
      ]
    },
    {
      "cell_type": "code",
      "execution_count": null,
      "metadata": {
        "id": "YGzVa7FwhLFw"
      },
      "outputs": [],
      "source": [
        "from docx import Document\n"
      ]
    },
    {
      "cell_type": "code",
      "source": [
        "# Create a new Document\n",
        "doc = Document()"
      ],
      "metadata": {
        "id": "Fit8LIqWhqj3"
      },
      "execution_count": null,
      "outputs": []
    },
    {
      "cell_type": "code",
      "source": [
        "# Add a title and subtitle\n",
        "doc.add_heading('FATEMA ALAM', level=1)\n",
        "doc.add_paragraph('Data Analyst')"
      ],
      "metadata": {
        "colab": {
          "base_uri": "https://localhost:8080/"
        },
        "id": "tYgT39gekpMT",
        "outputId": "f6355b7a-d20b-462f-92aa-88e14b94917a"
      },
      "execution_count": null,
      "outputs": [
        {
          "output_type": "execute_result",
          "data": {
            "text/plain": [
              "<docx.text.paragraph.Paragraph at 0x7881c6727e50>"
            ]
          },
          "metadata": {},
          "execution_count": 7
        }
      ]
    },
    {
      "cell_type": "code",
      "source": [
        "# Add contact information\n",
        "doc.add_heading('Contact', level=2)\n",
        "doc.add_paragraph('''\n",
        "183 Herbert Road, SE183QE\n",
        "+44 7440323844 | +8801685336744\n",
        "github.com/fatemakotha\n",
        "fatemaalam6744@gmail.com\n",
        "''')"
      ],
      "metadata": {
        "colab": {
          "base_uri": "https://localhost:8080/"
        },
        "id": "cZu169DJkr36",
        "outputId": "4b481826-ea35-448b-ad32-440e1f42b23a"
      },
      "execution_count": null,
      "outputs": [
        {
          "output_type": "execute_result",
          "data": {
            "text/plain": [
              "<docx.text.paragraph.Paragraph at 0x7881ddc1bb20>"
            ]
          },
          "metadata": {},
          "execution_count": 8
        }
      ]
    },
    {
      "cell_type": "code",
      "source": [
        "# Add profile section\n",
        "doc.add_heading('Profile', level=2)\n",
        "doc.add_paragraph('''\n",
        "Dedicated and results-driven Data Analyst with a robust background in Electrical and Electronics Engineering, coupled with a master’s degree in Data Science. Proficient in data cleaning, preprocessing, and exploratory data analysis (EDA), with extensive experience in Python, SQL, and data visualization tools (Pandas, Numpy, Matplotlib, Seaborn, Plotly). Adept at troubleshooting data issues and interpreting complex data to drive impactful business decisions. Highly collaborative and continuously seeking to expand expertise in a supportive work environment.\n",
        "''')\n"
      ],
      "metadata": {
        "colab": {
          "base_uri": "https://localhost:8080/"
        },
        "id": "gBeKA2RQkuO1",
        "outputId": "75dd2ea6-c85e-491e-e3a5-4ade8fc59179"
      },
      "execution_count": null,
      "outputs": [
        {
          "output_type": "execute_result",
          "data": {
            "text/plain": [
              "<docx.text.paragraph.Paragraph at 0x7881ddc1b190>"
            ]
          },
          "metadata": {},
          "execution_count": 9
        }
      ]
    },
    {
      "cell_type": "code",
      "source": [
        "# Add skills section\n",
        "doc.add_heading('Skills', level=2)\n",
        "doc.add_paragraph('''\n",
        "Programming & Tools:\n",
        "- Python, SQL, Power BI, Excel\n",
        "- Pandas, Matplotlib, Seaborn, Scikit-learn, Numpy, Plotly\n",
        "\n",
        "Data Analysis:\n",
        "- Data Cleaning, Preprocessing, EDA, Data Manipulation, Data Visualization\n",
        "\n",
        "Languages:\n",
        "- English, Bengali, Hindi\n",
        "''')"
      ],
      "metadata": {
        "colab": {
          "base_uri": "https://localhost:8080/"
        },
        "id": "iC7MoDzokyG0",
        "outputId": "66abf1d7-1fbf-402d-c6f2-7810b63661cb"
      },
      "execution_count": null,
      "outputs": [
        {
          "output_type": "execute_result",
          "data": {
            "text/plain": [
              "<docx.text.paragraph.Paragraph at 0x7881dea7b5b0>"
            ]
          },
          "metadata": {},
          "execution_count": 13
        }
      ]
    },
    {
      "cell_type": "code",
      "source": [
        "# Add education section\n",
        "doc.add_heading('Education', level=2)\n",
        "doc.add_paragraph('''\n",
        "Master of Data Science\n",
        "University Of Greenwich (UK), 2024\n",
        "\n",
        "Bachelor of Electrical and Electronic Engineering\n",
        "North South University (Bangladesh), 2022\n",
        "\n",
        "A Levels\n",
        "British Council, 2016\n",
        "\n",
        "O Levels\n",
        "British Council, 2014\n",
        "''')\n"
      ],
      "metadata": {
        "colab": {
          "base_uri": "https://localhost:8080/"
        },
        "id": "uG889BDzk3G3",
        "outputId": "4f0e662c-5fce-443e-a9e6-a201a0090770"
      },
      "execution_count": null,
      "outputs": [
        {
          "output_type": "execute_result",
          "data": {
            "text/plain": [
              "<docx.text.paragraph.Paragraph at 0x7881c6727400>"
            ]
          },
          "metadata": {},
          "execution_count": 14
        }
      ]
    },
    {
      "cell_type": "code",
      "source": [
        "# Add professional experience section\n",
        "doc.add_heading('Professional Experience', level=2)\n",
        "doc.add_paragraph('''\n",
        "Data Analyst\n",
        "My Lens, Dhaka, Bangladesh\n",
        "June 2022 - Jan 2023\n",
        "- Analyzed and reported on key business metrics, providing actionable insights to improve performance.\n",
        "- Conducted deep dives into various data sources, troubleshooting data and performance issues.\n",
        "- Built and maintained a comprehensive reporting suite, utilizing advanced analytical techniques.\n",
        "- Collaborated with teams to identify opportunities and enhance client value.\n",
        "\n",
        "Engineering Intern → Team Leader\n",
        "Gao Tek, USA (Remote)\n",
        "Nov 2021 - Feb 2022\n",
        "- Rapidly progressed from intern to team leader, managing a team of eight.\n",
        "- Led the team in reporting key metrics, trend analysis, and providing insights.\n",
        "- Utilized Python, SQL, and data manipulation tools to improve data-driven decision-making.\n",
        "- Enhanced internal data reporting processes and supported colleagues with expert troubleshooting.\n",
        "\n",
        "Freelancer (Data Analysis Instructor)\n",
        "Fiverr (Remote)\n",
        "Sept 2021 - Jan 2023\n",
        "- Instructed clients in data analysis using Python, Pandas, and Matplotlib.\n",
        "- Guided clients through key metrics analysis and trend interpretation.\n",
        "- Supported clients in troubleshooting and maintaining comprehensive reporting suites.\n",
        "- Leveraged advanced Excel and SQL skills to support data-driven decisions.\n",
        "\n",
        "Research Aide\n",
        "North South University, Dhaka, Bangladesh\n",
        "Sept 2021 - Jan 2023\n",
        "- Contributed to research on non-invasive blood glucose monitoring using PPG signals from smartphone videos.\n",
        "- Utilized Python and various data analysis libraries to extract and analyze data, aiding in the development of potential monitoring solutions.\n",
        "\n",
        "Christmas Customer Assistance (Part-time)\n",
        "Marks & Spencer, London, UK\n",
        "Nov 2023 - Dec 2023\n",
        "- Provided exceptional customer service, managed queues efficiently, and reported customer patterns to enhance experience.\n",
        "''')"
      ],
      "metadata": {
        "colab": {
          "base_uri": "https://localhost:8080/"
        },
        "id": "aM2H8lOklExq",
        "outputId": "a244987e-b083-4f25-d69f-3e9907670bee"
      },
      "execution_count": null,
      "outputs": [
        {
          "output_type": "execute_result",
          "data": {
            "text/plain": [
              "<docx.text.paragraph.Paragraph at 0x7881c6761b40>"
            ]
          },
          "metadata": {},
          "execution_count": 15
        }
      ]
    },
    {
      "cell_type": "code",
      "source": [
        "# Add projects section\n",
        "doc.add_heading('Projects', level=2)\n",
        "doc.add_paragraph('''\n",
        "Dissertation on NLP Enhancements\n",
        "University Of Greenwich, London, UK\n",
        "Jan 2023 - Dec 2023\n",
        "- Improved NLP methods for interpreting complex multi-word sentences and idiomatic expressions.\n",
        "- Utilized advanced classification approaches (SVM, LSTM, XGBoost, BERT, RoBERTa) to enhance model performance.\n",
        "- Conducted thorough testing, troubleshooting, and deployment to maximize model impact on user experiences.\n",
        "''')"
      ],
      "metadata": {
        "colab": {
          "base_uri": "https://localhost:8080/"
        },
        "id": "sMDsuCGjlJBZ",
        "outputId": "3030ec1d-d11c-4ee9-a1b9-30d740e366b1"
      },
      "execution_count": null,
      "outputs": [
        {
          "output_type": "execute_result",
          "data": {
            "text/plain": [
              "<docx.text.paragraph.Paragraph at 0x7881ddc1bb50>"
            ]
          },
          "metadata": {},
          "execution_count": 16
        }
      ]
    },
    {
      "cell_type": "code",
      "source": [
        "# Add extracurricular activities section\n",
        "doc.add_heading('Extracurricular Activities', level=2)\n",
        "doc.add_paragraph('''\n",
        "- Completed online courses in Web Development, Python, and Data Science.\n",
        "- Volunteered as Administrative Chief at EYE-11 (Engaging Youth to Evolve).\n",
        "- Member of Marketing and Operations Team at Young Economists' Forum, North South University.\n",
        "''')"
      ],
      "metadata": {
        "colab": {
          "base_uri": "https://localhost:8080/"
        },
        "id": "xOmWdnfXlLmx",
        "outputId": "a1116d64-314c-41ab-c7c9-37f9c46abdb7"
      },
      "execution_count": null,
      "outputs": [
        {
          "output_type": "execute_result",
          "data": {
            "text/plain": [
              "<docx.text.paragraph.Paragraph at 0x7881c6727f40>"
            ]
          },
          "metadata": {},
          "execution_count": 17
        }
      ]
    },
    {
      "cell_type": "code",
      "source": [
        "# Save the document\n",
        "doc.save(\"Fatema_Alam_Enhanced_Resume.docx\")"
      ],
      "metadata": {
        "id": "qhE1iqp3lNzN"
      },
      "execution_count": null,
      "outputs": []
    },
    {
      "cell_type": "code",
      "source": [],
      "metadata": {
        "id": "PuzR9tV7lQGs"
      },
      "execution_count": null,
      "outputs": []
    }
  ]
}